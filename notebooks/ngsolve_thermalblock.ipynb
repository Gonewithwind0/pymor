{
 "cells": [
  {
   "cell_type": "code",
   "execution_count": 1,
   "metadata": {},
   "outputs": [],
   "source": [
    "# This file is part of the pyMOR project (http://www.pymor.org).\n",
    "# Copyright 2013-2019 pyMOR developers and contributors. All rights reserved.\n",
    "# License: BSD 2-Clause License (http://opensource.org/licenses/BSD-2-Clause)"
   ]
  },
  {
   "cell_type": "markdown",
   "metadata": {
    "cell_marker": "\"\"\""
   },
   "source": [
    "Simplified version of the thermalblock demo\n",
    "====================================="
   ]
  },
  {
   "cell_type": "code",
   "execution_count": 2,
   "metadata": {},
   "outputs": [],
   "source": [
    "from pymor.basic import *        # most common pyMOR functions and classes\n",
    "\n",
    "# parameters for high-dimensional models\n",
    "NGS_ORDER = 4\n",
    "%matplotlib inline"
   ]
  },
  {
   "cell_type": "markdown",
   "metadata": {
    "cell_marker": "####################################################################################################"
   },
   "source": [
    "High-dimensional model\n",
    "------------------------------------"
   ]
  },
  {
   "cell_type": "code",
   "execution_count": 3,
   "metadata": {},
   "outputs": [],
   "source": [
    "def _setup_mesh():\n",
    "    from netgen.csg import CSGeometry, OrthoBrick, Pnt\n",
    "    from ngsolve import (ngsglobals, Mesh)\n",
    "    ngsglobals.msg_level = 1\n",
    "    \n",
    "    geo = CSGeometry()\n",
    "    obox = OrthoBrick(Pnt(-1, -1, -1), Pnt(1, 1, 1)).bc(\"outer\")\n",
    "\n",
    "    b = []\n",
    "    b.append(OrthoBrick(Pnt(-1, -1, -1), Pnt(0.0, 0.0, 0.0)).mat(\"mat1\").bc(\"inner\"))\n",
    "    b.append(OrthoBrick(Pnt(-1,  0, -1), Pnt(0.0, 1.0, 0.0)).mat(\"mat2\").bc(\"inner\"))\n",
    "    b.append(OrthoBrick(Pnt(0,  -1, -1), Pnt(1.0, 0.0, 0.0)).mat(\"mat3\").bc(\"inner\"))\n",
    "    b.append(OrthoBrick(Pnt(0,   0, -1), Pnt(1.0, 1.0, 0.0)).mat(\"mat4\").bc(\"inner\"))\n",
    "    b.append(OrthoBrick(Pnt(-1, -1,  0), Pnt(0.0, 0.0, 1.0)).mat(\"mat5\").bc(\"inner\"))\n",
    "    b.append(OrthoBrick(Pnt(-1,  0,  0), Pnt(0.0, 1.0, 1.0)).mat(\"mat6\").bc(\"inner\"))\n",
    "    b.append(OrthoBrick(Pnt(0,  -1,  0), Pnt(1.0, 0.0, 1.0)).mat(\"mat7\").bc(\"inner\"))\n",
    "    b.append(OrthoBrick(Pnt(0,   0,  0), Pnt(1.0, 1.0, 1.0)).mat(\"mat8\").bc(\"inner\"))\n",
    "    box = (obox - b[0] - b[1] - b[2] - b[3] - b[4] - b[5] - b[6] - b[7])\n",
    "\n",
    "    geo.Add(box)\n",
    "    for bi in b:\n",
    "        geo.Add(bi)\n",
    "    # domain 0 is empty!\n",
    "\n",
    "    return Mesh(geo.GenerateMesh(maxh=0.3))\n",
    "\n",
    "def discretize_ngsolve():\n",
    "    from ngsolve import (ngsglobals, H1, CoefficientFunction, LinearForm, SymbolicLFI,\n",
    "                         BilinearForm, SymbolicBFI, grad, TaskManager)\n",
    "    import numpy as np\n",
    "\n",
    "    mesh = _setup_mesh()\n",
    "\n",
    "    # H1-conforming finite element space\n",
    "    V = H1(mesh, order=NGS_ORDER, dirichlet=\"outer\")\n",
    "    v = V.TestFunction()\n",
    "    u = V.TrialFunction()\n",
    "\n",
    "    # Coeff as array: variable coefficient function (one CoefFct. per domain):\n",
    "    sourcefct = CoefficientFunction([1 for i in range(9)])\n",
    "\n",
    "    with TaskManager():\n",
    "        # the right hand side\n",
    "        f = LinearForm(V)\n",
    "        f += SymbolicLFI(sourcefct * v)\n",
    "        f.Assemble()\n",
    "\n",
    "        # the bilinear-form\n",
    "        mats = []\n",
    "        coeffs = [[0, 1, 0, 0, 0, 0, 0, 0, 1],\n",
    "                  [0, 0, 1, 0, 0, 0, 0, 1, 0],\n",
    "                  [0, 0, 0, 1, 0, 0, 1, 0, 0],\n",
    "                  [0, 0, 0, 0, 1, 1, 0, 0, 0]]\n",
    "        for c in coeffs:\n",
    "            diffusion = CoefficientFunction(c)\n",
    "            a = BilinearForm(V, symmetric=False)\n",
    "            a += SymbolicBFI(diffusion * grad(u) * grad(v), definedon=(np.where(np.array(c) == 1)[0] + 1).tolist())\n",
    "            a.Assemble()\n",
    "            mats.append(a.mat)\n",
    "\n",
    "    from pymor.bindings.ngsolve import NGSolveVectorSpace, NGSolveMatrixOperator, NGSolveVisualizer\n",
    "\n",
    "    space = NGSolveVectorSpace(V)\n",
    "    op = LincombOperator([NGSolveMatrixOperator(m, space, space) for m in mats],\n",
    "                         [ProjectionParameterFunctional('diffusion', (len(coeffs),), (i,)) for i in range(len(coeffs))])\n",
    "\n",
    "    h1_0_op = op.assemble([1] * len(coeffs)).with_(name='h1_0_semi')\n",
    "\n",
    "    F = space.zeros()\n",
    "    F._list[0].impl.vec.data = f.vec\n",
    "    F = VectorOperator(F)\n",
    "\n",
    "    return StationaryModel(op, F, visualizer=NGSolveVisualizer(mesh, V),\n",
    "                           products={'h1_0_semi': h1_0_op},\n",
    "                           parameter_space=CubicParameterSpace(op.parameter_type, 0.1, 1.))\n"
   ]
  },
  {
   "cell_type": "markdown",
   "metadata": {
    "cell_marker": "####################################################################################################"
   },
   "source": [
    "Reduction algorithms\n",
    "--------------------------------"
   ]
  },
  {
   "cell_type": "code",
   "execution_count": 4,
   "metadata": {
    "lines_to_next_cell": 1
   },
   "outputs": [],
   "source": [
    "def reduce_naive(fom, reductor, basis_size):\n",
    "\n",
    "    training_set = fom.parameter_space.sample_randomly(basis_size)\n",
    "\n",
    "    for mu in training_set:\n",
    "        reductor.extend_basis(fom.solve(mu), method='trivial')\n",
    "\n",
    "    rom = reductor.reduce()\n",
    "\n",
    "    return rom\n",
    "\n",
    "\n",
    "def reduce_greedy(fom, reductor, snapshots, basis_size):\n",
    "\n",
    "    training_set = fom.parameter_space.sample_uniformly(snapshots)\n",
    "    pool = new_parallel_pool()\n",
    "\n",
    "    greedy_data = greedy(fom, reductor, training_set,\n",
    "                         extension_params={'method': 'gram_schmidt'},\n",
    "                         max_extensions=basis_size,\n",
    "                         pool=pool)\n",
    "\n",
    "    return greedy_data['rom']\n",
    "\n",
    "\n",
    "def reduce_adaptive_greedy(fom, reductor, validation_mus, basis_size):\n",
    "\n",
    "    pool = new_parallel_pool()\n",
    "\n",
    "    greedy_data = adaptive_greedy(fom, reductor, validation_mus=-validation_mus,\n",
    "                                  extension_params={'method': 'gram_schmidt'},\n",
    "                                  max_extensions=basis_size,\n",
    "                                  pool=pool)\n",
    "\n",
    "    return greedy_data['rom']\n",
    "\n",
    "\n",
    "def reduce_pod(fom, reductor, snapshots, basis_size):\n",
    "\n",
    "    training_set = fom.parameter_space.sample_uniformly(snapshots)\n",
    "\n",
    "    snapshots = fom.operator.source.empty()\n",
    "    for mu in training_set:\n",
    "        snapshots.append(fom.solve(mu))\n",
    "\n",
    "    basis, singular_values = pod(snapshots, modes=basis_size, product=reductor.product)\n",
    "    reductor.extend_basis(basis, method='trivial')\n",
    "\n",
    "    rom = reductor.reduce()\n",
    "\n",
    "    return rom"
   ]
  },
  {
   "cell_type": "markdown",
   "metadata": {
    "cell_marker": "####################################################################################################"
   },
   "source": [
    "## Main script\n",
    "\n",
    "\n",
    " - *ALG* The model reduction algorithm to use (naive, greedy, adaptive_greedy, pod).\n",
    "\n",
    " - *SNAPSHOTS*: \n",
    "     - naive: ignored\n",
    "     - greedy/pod:      Number of training_set parameters per block\n",
    "                          (in total SNAPSHOTS^(XBLOCKS * YBLOCKS)\n",
    "                          parameters).\n",
    "\n",
    "     - adaptive_greedy: size of validation set.\n",
    " - *RBSIZE* Size of the reduced basis.\n",
    "\n",
    " - *TEST* Number of parameters for stochastic error estimation.\n"
   ]
  },
  {
   "cell_type": "code",
   "execution_count": 5,
   "metadata": {},
   "outputs": [
    {
     "data": {
      "application/vnd.jupyter.widget-view+json": {
       "model_id": "13678409101648ab8811e5c317541d09",
       "version_major": 2,
       "version_minor": 0
      },
      "text/plain": [
       "Accordion(children=(HTML(value='', layout=Layout(height='16em', overflow_y='auto', width='100%')),), selected_…"
      ]
     },
     "metadata": {},
     "output_type": "display_data"
    },
    {
     "name": "stdout",
     "output_type": "stream",
     "text": [
      ".....\n"
     ]
    },
    {
     "data": {
      "image/png": "[encoded data removed]",
      "text/plain": [
       "<Figure size 432x288 with 3 Axes>"
      ]
     },
     "metadata": {
      "needs_background": "light"
     },
     "output_type": "display_data"
    }
   ],
   "source": [
    "ALG = \"greedy\"\n",
    "SNAPSHOTS = 5\n",
    "RBSIZE = 5\n",
    "TEST = 5\n",
    "\n",
    "fom = discretize_ngsolve()\n",
    "# select reduction algorithm with error estimator\n",
    "#################################################\n",
    "coercivity_estimator = ExpressionParameterFunctional('min(diffusion)', fom.parameter_type)\n",
    "reductor = CoerciveRBReductor(fom, product=fom.h1_0_semi_product, coercivity_estimator=coercivity_estimator,\n",
    "                              check_orthonormality=False)\n",
    "\n",
    "# generate reduced model\n",
    "########################\n",
    "if ALG == 'naive':\n",
    "    rom = reduce_naive(fom, reductor, RBSIZE)\n",
    "elif ALG == 'greedy':\n",
    "    rom = reduce_greedy(fom, reductor, SNAPSHOTS, RBSIZE)\n",
    "elif ALG == 'adaptive_greedy':\n",
    "    rom = reduce_adaptive_greedy(fom, reductor, SNAPSHOTS, RBSIZE)\n",
    "elif ALG == 'pod':\n",
    "    rom = reduce_pod(fom, reductor, SNAPSHOTS, RBSIZE)\n",
    "else:\n",
    "    raise NotImplementedError\n",
    "\n",
    "# evaluate the reduction error\n",
    "##############################\n",
    "results = reduction_error_analysis(rom, fom=fom, reductor=reductor, estimator=True,\n",
    "                                   error_norms=[fom.h1_0_semi_norm], condition=True,\n",
    "                                   test_mus=TEST, random_seed=999, plot=True)"
   ]
  },
  {
   "cell_type": "code",
   "execution_count": 6,
   "metadata": {},
   "outputs": [
    {
     "name": "stdout",
     "output_type": "stream",
     "text": [
      "Stochastic error estimation:\n",
      "    number of samples:                5\n",
      "    maximum h1_0_semi-norm:           2.6397043e+00 (mu = {diffusion: [0.40849340646943433, 0.2814036497339801, 0.7365918070918953, 0.1300593379224498]})\n",
      "    maximum h1_0_semi-error:          5.3305354e-01 (mu = {diffusion: [0.40849340646943433, 0.2814036497339801, 0.7365918070918953, 0.1300593379224498]})\n",
      "    maximum estimated error:          7.5875891e-01 (mu = {diffusion: [0.40849340646943433, 0.2814036497339801, 0.7365918070918953, 0.1300593379224498]})\n",
      "    minimum estimator effectivity:    6.8810565e-01 (mu = {diffusion: [0.9183250392472524, 0.46464459839419614, 0.7843919233053798, 0.5263825381853718]})\n",
      "    maximum estimator effectivity:    7.6632301e-01 (mu = {diffusion: [0.6653138702298047, 0.7276536497749134, 0.8109547199932422, 0.21870131760514833]})\n",
      "    maximum system matrix condition:  2.8121652e+00 (mu = {diffusion: [0.40849340646943433, 0.2814036497339801, 0.7365918070918953, 0.1300593379224498]})\n",
      "    elapsed time:                     3.865992784500122\n"
     ]
    },
    {
     "data": {
      "application/vnd.jupyter.widget-view+json": {
       "model_id": "dfcc03d43aae45d7b1bc8b4f04bf111a",
       "version_major": 2,
       "version_minor": 0
      },
      "text/plain": [
       "Accordion(children=(HTML(value='', layout=Layout(height='16em', overflow_y='auto', width='100%')),), selected_…"
      ]
     },
     "metadata": {},
     "output_type": "display_data"
    }
   ],
   "source": [
    "# show results\n",
    "##############\n",
    "print(results['summary'])\n",
    "import matplotlib.pyplot\n",
    "matplotlib.pyplot.show(results['figure'])\n",
    "\n",
    "\n",
    "# visualize reduction error for worst-approximated mu\n",
    "#####################################################\n",
    "mumax = results['max_error_mus'][0, -1]\n",
    "U = fom.solve(mumax)\n",
    "U_RB = reductor.reconstruct(rom.solve(mumax))\n",
    "# This only works with real X Display access\n",
    "fom.visualize((U, U_RB, U - U_RB), legend=('Detailed Solution', 'Reduced Solution', 'Error'),\n",
    "              separate_colorbars=True, block=True)\n"
   ]
  }
 ],
 "metadata": {
  "jupytext": {
   "cell_metadata_filter": "-all",
   "executable": "/usr/bin/env python",
   "main_language": "python",
   "notebook_metadata_filter": "-all"
  },
  "kernelspec": {
   "display_name": "Python 3",
   "language": "python",
   "name": "python3"
  },
  "language_info": {
   "codemirror_mode": {
    "name": "ipython",
    "version": 3
   },
   "file_extension": ".py",
   "mimetype": "text/x-python",
   "name": "python",
   "nbconvert_exporter": "python",
   "pygments_lexer": "ipython3",
   "version": "3.7.1"
  }
 },
 "nbformat": 4,
 "nbformat_minor": 2
}
